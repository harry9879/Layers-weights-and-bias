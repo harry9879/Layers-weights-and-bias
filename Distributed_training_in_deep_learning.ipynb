{
  "nbformat": 4,
  "nbformat_minor": 0,
  "metadata": {
    "colab": {
      "provenance": [],
      "gpuType": "T4",
      "authorship_tag": "ABX9TyMqby7pqGpl+RClCWorPlsZ",
      "include_colab_link": true
    },
    "kernelspec": {
      "name": "python3",
      "display_name": "Python 3"
    },
    "language_info": {
      "name": "python"
    },
    "accelerator": "GPU",
    "widgets": {
      "application/vnd.jupyter.widget-state+json": {
        "04be12b4918447229590ba7435dea245": {
          "model_module": "@jupyter-widgets/controls",
          "model_name": "HBoxModel",
          "model_module_version": "1.5.0",
          "state": {
            "_dom_classes": [],
            "_model_module": "@jupyter-widgets/controls",
            "_model_module_version": "1.5.0",
            "_model_name": "HBoxModel",
            "_view_count": null,
            "_view_module": "@jupyter-widgets/controls",
            "_view_module_version": "1.5.0",
            "_view_name": "HBoxView",
            "box_style": "",
            "children": [
              "IPY_MODEL_1c1a38f1c99b4862977b95d7ee67a96e",
              "IPY_MODEL_fcacdc1a6680454f9fc9aaa9b3efc16d",
              "IPY_MODEL_f8caaa56ae0545449996579f78f1fab8"
            ],
            "layout": "IPY_MODEL_534ea81f1506472a9ca5db6fffe674a2"
          }
        },
        "1c1a38f1c99b4862977b95d7ee67a96e": {
          "model_module": "@jupyter-widgets/controls",
          "model_name": "HTMLModel",
          "model_module_version": "1.5.0",
          "state": {
            "_dom_classes": [],
            "_model_module": "@jupyter-widgets/controls",
            "_model_module_version": "1.5.0",
            "_model_name": "HTMLModel",
            "_view_count": null,
            "_view_module": "@jupyter-widgets/controls",
            "_view_module_version": "1.5.0",
            "_view_name": "HTMLView",
            "description": "",
            "description_tooltip": null,
            "layout": "IPY_MODEL_20914cd8f6e54ceb92f49a0c558d79d6",
            "placeholder": "​",
            "style": "IPY_MODEL_8ad275dea65d4d3c8fe8204543657386",
            "value": "Dl Completed...: 100%"
          }
        },
        "fcacdc1a6680454f9fc9aaa9b3efc16d": {
          "model_module": "@jupyter-widgets/controls",
          "model_name": "FloatProgressModel",
          "model_module_version": "1.5.0",
          "state": {
            "_dom_classes": [],
            "_model_module": "@jupyter-widgets/controls",
            "_model_module_version": "1.5.0",
            "_model_name": "FloatProgressModel",
            "_view_count": null,
            "_view_module": "@jupyter-widgets/controls",
            "_view_module_version": "1.5.0",
            "_view_name": "ProgressView",
            "bar_style": "success",
            "description": "",
            "description_tooltip": null,
            "layout": "IPY_MODEL_a490fcdae01f4edbaaa7acdb61970e21",
            "max": 5,
            "min": 0,
            "orientation": "horizontal",
            "style": "IPY_MODEL_a8db72afb039497ab7160c6c4df6300b",
            "value": 5
          }
        },
        "f8caaa56ae0545449996579f78f1fab8": {
          "model_module": "@jupyter-widgets/controls",
          "model_name": "HTMLModel",
          "model_module_version": "1.5.0",
          "state": {
            "_dom_classes": [],
            "_model_module": "@jupyter-widgets/controls",
            "_model_module_version": "1.5.0",
            "_model_name": "HTMLModel",
            "_view_count": null,
            "_view_module": "@jupyter-widgets/controls",
            "_view_module_version": "1.5.0",
            "_view_name": "HTMLView",
            "description": "",
            "description_tooltip": null,
            "layout": "IPY_MODEL_2e84a063b51442f690cc895b2101bea9",
            "placeholder": "​",
            "style": "IPY_MODEL_8477faa303ec4f08a64059daf5e18306",
            "value": " 5/5 [00:00&lt;00:00,  6.91 file/s]"
          }
        },
        "534ea81f1506472a9ca5db6fffe674a2": {
          "model_module": "@jupyter-widgets/base",
          "model_name": "LayoutModel",
          "model_module_version": "1.2.0",
          "state": {
            "_model_module": "@jupyter-widgets/base",
            "_model_module_version": "1.2.0",
            "_model_name": "LayoutModel",
            "_view_count": null,
            "_view_module": "@jupyter-widgets/base",
            "_view_module_version": "1.2.0",
            "_view_name": "LayoutView",
            "align_content": null,
            "align_items": null,
            "align_self": null,
            "border": null,
            "bottom": null,
            "display": null,
            "flex": null,
            "flex_flow": null,
            "grid_area": null,
            "grid_auto_columns": null,
            "grid_auto_flow": null,
            "grid_auto_rows": null,
            "grid_column": null,
            "grid_gap": null,
            "grid_row": null,
            "grid_template_areas": null,
            "grid_template_columns": null,
            "grid_template_rows": null,
            "height": null,
            "justify_content": null,
            "justify_items": null,
            "left": null,
            "margin": null,
            "max_height": null,
            "max_width": null,
            "min_height": null,
            "min_width": null,
            "object_fit": null,
            "object_position": null,
            "order": null,
            "overflow": null,
            "overflow_x": null,
            "overflow_y": null,
            "padding": null,
            "right": null,
            "top": null,
            "visibility": null,
            "width": null
          }
        },
        "20914cd8f6e54ceb92f49a0c558d79d6": {
          "model_module": "@jupyter-widgets/base",
          "model_name": "LayoutModel",
          "model_module_version": "1.2.0",
          "state": {
            "_model_module": "@jupyter-widgets/base",
            "_model_module_version": "1.2.0",
            "_model_name": "LayoutModel",
            "_view_count": null,
            "_view_module": "@jupyter-widgets/base",
            "_view_module_version": "1.2.0",
            "_view_name": "LayoutView",
            "align_content": null,
            "align_items": null,
            "align_self": null,
            "border": null,
            "bottom": null,
            "display": null,
            "flex": null,
            "flex_flow": null,
            "grid_area": null,
            "grid_auto_columns": null,
            "grid_auto_flow": null,
            "grid_auto_rows": null,
            "grid_column": null,
            "grid_gap": null,
            "grid_row": null,
            "grid_template_areas": null,
            "grid_template_columns": null,
            "grid_template_rows": null,
            "height": null,
            "justify_content": null,
            "justify_items": null,
            "left": null,
            "margin": null,
            "max_height": null,
            "max_width": null,
            "min_height": null,
            "min_width": null,
            "object_fit": null,
            "object_position": null,
            "order": null,
            "overflow": null,
            "overflow_x": null,
            "overflow_y": null,
            "padding": null,
            "right": null,
            "top": null,
            "visibility": null,
            "width": null
          }
        },
        "8ad275dea65d4d3c8fe8204543657386": {
          "model_module": "@jupyter-widgets/controls",
          "model_name": "DescriptionStyleModel",
          "model_module_version": "1.5.0",
          "state": {
            "_model_module": "@jupyter-widgets/controls",
            "_model_module_version": "1.5.0",
            "_model_name": "DescriptionStyleModel",
            "_view_count": null,
            "_view_module": "@jupyter-widgets/base",
            "_view_module_version": "1.2.0",
            "_view_name": "StyleView",
            "description_width": ""
          }
        },
        "a490fcdae01f4edbaaa7acdb61970e21": {
          "model_module": "@jupyter-widgets/base",
          "model_name": "LayoutModel",
          "model_module_version": "1.2.0",
          "state": {
            "_model_module": "@jupyter-widgets/base",
            "_model_module_version": "1.2.0",
            "_model_name": "LayoutModel",
            "_view_count": null,
            "_view_module": "@jupyter-widgets/base",
            "_view_module_version": "1.2.0",
            "_view_name": "LayoutView",
            "align_content": null,
            "align_items": null,
            "align_self": null,
            "border": null,
            "bottom": null,
            "display": null,
            "flex": null,
            "flex_flow": null,
            "grid_area": null,
            "grid_auto_columns": null,
            "grid_auto_flow": null,
            "grid_auto_rows": null,
            "grid_column": null,
            "grid_gap": null,
            "grid_row": null,
            "grid_template_areas": null,
            "grid_template_columns": null,
            "grid_template_rows": null,
            "height": null,
            "justify_content": null,
            "justify_items": null,
            "left": null,
            "margin": null,
            "max_height": null,
            "max_width": null,
            "min_height": null,
            "min_width": null,
            "object_fit": null,
            "object_position": null,
            "order": null,
            "overflow": null,
            "overflow_x": null,
            "overflow_y": null,
            "padding": null,
            "right": null,
            "top": null,
            "visibility": null,
            "width": null
          }
        },
        "a8db72afb039497ab7160c6c4df6300b": {
          "model_module": "@jupyter-widgets/controls",
          "model_name": "ProgressStyleModel",
          "model_module_version": "1.5.0",
          "state": {
            "_model_module": "@jupyter-widgets/controls",
            "_model_module_version": "1.5.0",
            "_model_name": "ProgressStyleModel",
            "_view_count": null,
            "_view_module": "@jupyter-widgets/base",
            "_view_module_version": "1.2.0",
            "_view_name": "StyleView",
            "bar_color": null,
            "description_width": ""
          }
        },
        "2e84a063b51442f690cc895b2101bea9": {
          "model_module": "@jupyter-widgets/base",
          "model_name": "LayoutModel",
          "model_module_version": "1.2.0",
          "state": {
            "_model_module": "@jupyter-widgets/base",
            "_model_module_version": "1.2.0",
            "_model_name": "LayoutModel",
            "_view_count": null,
            "_view_module": "@jupyter-widgets/base",
            "_view_module_version": "1.2.0",
            "_view_name": "LayoutView",
            "align_content": null,
            "align_items": null,
            "align_self": null,
            "border": null,
            "bottom": null,
            "display": null,
            "flex": null,
            "flex_flow": null,
            "grid_area": null,
            "grid_auto_columns": null,
            "grid_auto_flow": null,
            "grid_auto_rows": null,
            "grid_column": null,
            "grid_gap": null,
            "grid_row": null,
            "grid_template_areas": null,
            "grid_template_columns": null,
            "grid_template_rows": null,
            "height": null,
            "justify_content": null,
            "justify_items": null,
            "left": null,
            "margin": null,
            "max_height": null,
            "max_width": null,
            "min_height": null,
            "min_width": null,
            "object_fit": null,
            "object_position": null,
            "order": null,
            "overflow": null,
            "overflow_x": null,
            "overflow_y": null,
            "padding": null,
            "right": null,
            "top": null,
            "visibility": null,
            "width": null
          }
        },
        "8477faa303ec4f08a64059daf5e18306": {
          "model_module": "@jupyter-widgets/controls",
          "model_name": "DescriptionStyleModel",
          "model_module_version": "1.5.0",
          "state": {
            "_model_module": "@jupyter-widgets/controls",
            "_model_module_version": "1.5.0",
            "_model_name": "DescriptionStyleModel",
            "_view_count": null,
            "_view_module": "@jupyter-widgets/base",
            "_view_module_version": "1.2.0",
            "_view_name": "StyleView",
            "description_width": ""
          }
        }
      }
    }
  },
  "cells": [
    {
      "cell_type": "markdown",
      "metadata": {
        "id": "view-in-github",
        "colab_type": "text"
      },
      "source": [
        "<a href=\"https://colab.research.google.com/github/harry9879/Layers-weights-and-bias/blob/main/Distributed_training_in_deep_learning.ipynb\" target=\"_parent\"><img src=\"https://colab.research.google.com/assets/colab-badge.svg\" alt=\"Open In Colab\"/></a>"
      ]
    },
    {
      "cell_type": "code",
      "execution_count": 1,
      "metadata": {
        "id": "NH-512tEAG2K"
      },
      "outputs": [],
      "source": [
        "# Explained by harry\n",
        "import tensorflow_datasets as tfds\n",
        "import tensorflow as tf\n",
        "import os\n",
        "\n",
        "#Load the TensorBoard notebook extension for visualizing\n",
        "%load_ext tensorboard"
      ]
    },
    {
      "cell_type": "code",
      "source": [
        "datasets, info = tfds.load(name = \"mnist\", with_info=True, as_supervised = True) \n",
        "#as_supervised = True- return a tuple value ex:(2,3) \n",
        "#with_info - return additional information\n",
        "mnist_train, mnist_test = datasets[\"train\"], datasets[\"test\"]"
      ],
      "metadata": {
        "colab": {
          "base_uri": "https://localhost:8080/",
          "height": 84,
          "referenced_widgets": [
            "04be12b4918447229590ba7435dea245",
            "1c1a38f1c99b4862977b95d7ee67a96e",
            "fcacdc1a6680454f9fc9aaa9b3efc16d",
            "f8caaa56ae0545449996579f78f1fab8",
            "534ea81f1506472a9ca5db6fffe674a2",
            "20914cd8f6e54ceb92f49a0c558d79d6",
            "8ad275dea65d4d3c8fe8204543657386",
            "a490fcdae01f4edbaaa7acdb61970e21",
            "a8db72afb039497ab7160c6c4df6300b",
            "2e84a063b51442f690cc895b2101bea9",
            "8477faa303ec4f08a64059daf5e18306"
          ]
        },
        "id": "A34xzieiA7an",
        "outputId": "e2eb775f-67ce-40b7-cc10-ce539f90fd23"
      },
      "execution_count": 2,
      "outputs": [
        {
          "output_type": "stream",
          "name": "stdout",
          "text": [
            "Downloading and preparing dataset 11.06 MiB (download: 11.06 MiB, generated: 21.00 MiB, total: 32.06 MiB) to /root/tensorflow_datasets/mnist/3.0.1...\n"
          ]
        },
        {
          "output_type": "display_data",
          "data": {
            "text/plain": [
              "Dl Completed...:   0%|          | 0/5 [00:00<?, ? file/s]"
            ],
            "application/vnd.jupyter.widget-view+json": {
              "version_major": 2,
              "version_minor": 0,
              "model_id": "04be12b4918447229590ba7435dea245"
            }
          },
          "metadata": {}
        },
        {
          "output_type": "stream",
          "name": "stdout",
          "text": [
            "Dataset mnist downloaded and prepared to /root/tensorflow_datasets/mnist/3.0.1. Subsequent calls will reuse this data.\n"
          ]
        }
      ]
    },
    {
      "cell_type": "code",
      "source": [
        "strategy = tf.distribute.MirroredStrategy()\n",
        "# the above strategy is used to distribute the system on the Basis of GPU "
      ],
      "metadata": {
        "id": "MteuAijeBPn-"
      },
      "execution_count": 3,
      "outputs": []
    },
    {
      "cell_type": "code",
      "source": [
        "print(\"Number of devices: {}\". format(strategy.num_replicas_in_sync))\n",
        "# to get the num of the device avaliable"
      ],
      "metadata": {
        "colab": {
          "base_uri": "https://localhost:8080/"
        },
        "id": "dN2XTa7VBwyK",
        "outputId": "b97c80db-5ae8-4069-827a-5b7d74ab1201"
      },
      "execution_count": 4,
      "outputs": [
        {
          "output_type": "stream",
          "name": "stdout",
          "text": [
            "Number of devices: 1\n"
          ]
        }
      ]
    },
    {
      "cell_type": "markdown",
      "source": [
        "#Set up the input pipeline"
      ],
      "metadata": {
        "id": "cLYRdiQyB8cZ"
      }
    },
    {
      "cell_type": "code",
      "source": [
        "# You can also do info.splits.total_num_examples to get the total \n",
        "#number of examples in the dataset\n",
        "\n",
        "num_train_examples = info.splits[\"train\"].num_examples\n",
        "num_test_examples = info.splits[\"test\"].num_examples\n",
        "\n",
        "BUFFER_SIZE = 10000\n",
        "\n",
        "BATCH_SIZE_PER_REPLICA = 64\n",
        "BATCH_SIZE = BATCH_SIZE_PER_REPLICA * strategy.num_replicas_in_sync"
      ],
      "metadata": {
        "id": "HZCpFobBCQNk"
      },
      "execution_count": 5,
      "outputs": []
    },
    {
      "cell_type": "code",
      "source": [
        "# Rescale by divided the max_value 255 to get b/w [0,1]\n",
        "def scale(image, label):\n",
        "  image = tf.cast(image, tf.float32)\n",
        "  image /= 255\n",
        "  return image, label"
      ],
      "metadata": {
        "id": "CLv5qt3rC9m4"
      },
      "execution_count": 6,
      "outputs": []
    },
    {
      "cell_type": "code",
      "source": [
        "train_dataset = mnist_train.map(scale).cache().shuffle(BUFFER_SIZE).batch(BATCH_SIZE)\n",
        "# .map(scale) to apply the rescaling\n",
        "# .cache is for storing some computation on the device\n",
        "# .shuffle(BUFFER_SIZE) to shuffle or compute from the give buffer size = 10000\n",
        "eval_dataset = mnist_test.map(scale).batch(BATCH_SIZE)"
      ],
      "metadata": {
        "id": "X0C_4DyZDI5Z"
      },
      "execution_count": 17,
      "outputs": []
    },
    {
      "cell_type": "code",
      "source": [
        "with strategy.scope(): #To the device that the system is distributed system\n",
        "  model = tf.keras.Sequential([\n",
        "      tf.keras.layers.Conv2D(32, 3, activation='relu', input_shape = (28,28,1)),\n",
        "      tf.keras.layers.MaxPooling2D(),\n",
        "      tf.keras.layers.Flatten(),\n",
        "      tf.keras.layers.Dense(64, activation = 'relu'),\n",
        "      tf.keras.layers.Dense(10)\n",
        "  ])\n",
        "\n",
        "model.compile(loss=tf.keras.losses.SparseCategoricalCrossentropy(from_logits=True),\n",
        "                optimizer=tf.keras.optimizers.Adam(),\n",
        "                metrics=['accuracy'])"
      ],
      "metadata": {
        "id": "yOCVkZsTDe8x"
      },
      "execution_count": 18,
      "outputs": []
    },
    {
      "cell_type": "code",
      "source": [
        "#Define the checkpoint directory to store the checkpoints\n",
        "checkpoint_dir = \"./training_checkpoints\"\n",
        "#Define the name of the checkpoint files.\n",
        "checkpoint_prefix = os.path.join(checkpoint_dir, \"ckpt_{epoch}\")\n",
        "print(checkpoint_prefix)"
      ],
      "metadata": {
        "id": "XbVM_ww0HnEQ",
        "colab": {
          "base_uri": "https://localhost:8080/"
        },
        "outputId": "efd3f940-9496-409f-b0f3-066e57aafcb2"
      },
      "execution_count": 19,
      "outputs": [
        {
          "output_type": "stream",
          "name": "stdout",
          "text": [
            "./training_checkpoints/ckpt_{epoch}\n"
          ]
        }
      ]
    },
    {
      "cell_type": "code",
      "source": [
        "#Define a function for decaying in the learning rate\n",
        "#You can define any decay function you need\n",
        "def decay(epoch):\n",
        "  if epoch < 3:\n",
        "    return 1e-3\n",
        "  elif epoch>= 3 and epoch < 7:\n",
        "    return 1e-4\n",
        "  else :\n",
        "    return 1e-5"
      ],
      "metadata": {
        "id": "8qbzDe1XH7HJ"
      },
      "execution_count": 20,
      "outputs": []
    },
    {
      "cell_type": "code",
      "source": [
        "#Define a callback for printing the learning rate at the end of each epoch\n",
        "class PrintLR(tf.keras.callbacks.Callback):\n",
        "  def on_epoch_end(self, epoch, logs = None):\n",
        "    print(\"\\nLearning rate for epoch {} is {}\".format(       epoch +1, model.optimizer.lr.numpy()))"
      ],
      "metadata": {
        "id": "NvXFyuXjIARt"
      },
      "execution_count": null,
      "outputs": []
    },
    {
      "cell_type": "code",
      "source": [
        "#Put all the callbacks together \n",
        "callbacks = [\n",
        "    tf.keras.callbacks.TensorBoard(log_dir = \"./logs\"),\n",
        "    tf.keras.callbacks.ModelCheckpoint(filepath=checkpoint_prefix,\n",
        "                                       save_weights_only = True),\n",
        "    tf.keras.callbacks.LearningRateScheduler(decay),\n",
        "    PrintLR()\n",
        "]"
      ],
      "metadata": {
        "id": "bhfcNIpSJMPr"
      },
      "execution_count": null,
      "outputs": []
    },
    {
      "cell_type": "code",
      "source": [
        "EPOCHS = 12\n",
        "model.fit(train_dataset, epochs=EPOCHS, callbacks=callbacks)"
      ],
      "metadata": {
        "colab": {
          "base_uri": "https://localhost:8080/"
        },
        "id": "zXVLL0bhKLF7",
        "outputId": "462d9f7b-1f60-417f-d4ab-572d193515c8"
      },
      "execution_count": null,
      "outputs": [
        {
          "output_type": "stream",
          "name": "stdout",
          "text": [
            "Epoch 1/12\n",
            "  1/938 [..............................] - ETA: 1:20 - loss: 0.0483 - accuracy: 0.9844"
          ]
        },
        {
          "output_type": "stream",
          "name": "stderr",
          "text": [
            "WARNING:tensorflow:Callback method `on_train_batch_end` is slow compared to the batch time (batch time: 0.0050s vs `on_train_batch_end` time: 0.0061s). Check your callbacks.\n"
          ]
        },
        {
          "output_type": "stream",
          "name": "stdout",
          "text": [
            "930/938 [============================>.] - ETA: 0s - loss: 0.0635 - accuracy: 0.9817\n",
            "Learning rate for epoch 1 is 0.0010000000474974513\n",
            "938/938 [==============================] - 5s 5ms/step - loss: 0.0636 - accuracy: 0.9816 - lr: 0.0010\n",
            "Epoch 2/12\n",
            "932/938 [============================>.] - ETA: 0s - loss: 0.0454 - accuracy: 0.9860\n",
            "Learning rate for epoch 2 is 0.0010000000474974513\n",
            "938/938 [==============================] - 5s 5ms/step - loss: 0.0454 - accuracy: 0.9860 - lr: 0.0010\n",
            "Epoch 3/12\n",
            "929/938 [============================>.] - ETA: 0s - loss: 0.0335 - accuracy: 0.9900\n",
            "Learning rate for epoch 3 is 0.0010000000474974513\n",
            "938/938 [==============================] - 6s 6ms/step - loss: 0.0337 - accuracy: 0.9899 - lr: 0.0010\n",
            "Epoch 4/12\n",
            "928/938 [============================>.] - ETA: 0s - loss: 0.0176 - accuracy: 0.9954\n",
            "Learning rate for epoch 4 is 9.999999747378752e-05\n",
            "938/938 [==============================] - 5s 5ms/step - loss: 0.0176 - accuracy: 0.9954 - lr: 1.0000e-04\n",
            "Epoch 5/12\n",
            "931/938 [============================>.] - ETA: 0s - loss: 0.0149 - accuracy: 0.9962\n",
            "Learning rate for epoch 5 is 9.999999747378752e-05\n",
            "938/938 [==============================] - 5s 6ms/step - loss: 0.0149 - accuracy: 0.9962 - lr: 1.0000e-04\n",
            "Epoch 6/12\n",
            "931/938 [============================>.] - ETA: 0s - loss: 0.0134 - accuracy: 0.9966\n",
            "Learning rate for epoch 6 is 9.999999747378752e-05\n",
            "938/938 [==============================] - 5s 5ms/step - loss: 0.0134 - accuracy: 0.9966 - lr: 1.0000e-04\n",
            "Epoch 7/12\n",
            "936/938 [============================>.] - ETA: 0s - loss: 0.0123 - accuracy: 0.9972\n",
            "Learning rate for epoch 7 is 9.999999747378752e-05\n",
            "938/938 [==============================] - 5s 5ms/step - loss: 0.0123 - accuracy: 0.9972 - lr: 1.0000e-04\n",
            "Epoch 8/12\n",
            "931/938 [============================>.] - ETA: 0s - loss: 0.0104 - accuracy: 0.9980\n",
            "Learning rate for epoch 8 is 9.999999747378752e-06\n",
            "938/938 [==============================] - 5s 5ms/step - loss: 0.0103 - accuracy: 0.9980 - lr: 1.0000e-05\n",
            "Epoch 9/12\n",
            "929/938 [============================>.] - ETA: 0s - loss: 0.0102 - accuracy: 0.9981\n",
            "Learning rate for epoch 9 is 9.999999747378752e-06\n",
            "938/938 [==============================] - 6s 6ms/step - loss: 0.0102 - accuracy: 0.9981 - lr: 1.0000e-05\n",
            "Epoch 10/12\n",
            "928/938 [============================>.] - ETA: 0s - loss: 0.0100 - accuracy: 0.9981\n",
            "Learning rate for epoch 10 is 9.999999747378752e-06\n",
            "938/938 [==============================] - 5s 5ms/step - loss: 0.0100 - accuracy: 0.9981 - lr: 1.0000e-05\n",
            "Epoch 11/12\n",
            "938/938 [==============================] - ETA: 0s - loss: 0.0099 - accuracy: 0.9980\n",
            "Learning rate for epoch 11 is 9.999999747378752e-06\n",
            "938/938 [==============================] - 7s 7ms/step - loss: 0.0099 - accuracy: 0.9980 - lr: 1.0000e-05\n",
            "Epoch 12/12\n",
            "937/938 [============================>.] - ETA: 0s - loss: 0.0098 - accuracy: 0.9981\n",
            "Learning rate for epoch 12 is 9.999999747378752e-06\n",
            "938/938 [==============================] - 5s 5ms/step - loss: 0.0098 - accuracy: 0.9981 - lr: 1.0000e-05\n"
          ]
        },
        {
          "output_type": "execute_result",
          "data": {
            "text/plain": [
              "<keras.callbacks.History at 0x7fcc27458160>"
            ]
          },
          "metadata": {},
          "execution_count": 22
        }
      ]
    },
    {
      "cell_type": "code",
      "source": [
        "model.load_weights(tf.train.latest_checkpoint(checkpoint_dir))\n",
        "\n",
        "eval_loss , eval_acc = model.evaluate(eval_dataset)\n",
        "\n",
        "print(\"Eval loss : {}, Eval accuracy : {} \".format(eval_loss, eval_acc))"
      ],
      "metadata": {
        "colab": {
          "base_uri": "https://localhost:8080/"
        },
        "id": "hK-ONeriLto2",
        "outputId": "73d23345-0734-4002-a72e-2ed2f50768ac"
      },
      "execution_count": null,
      "outputs": [
        {
          "output_type": "stream",
          "name": "stdout",
          "text": [
            "157/157 [==============================] - 2s 8ms/step - loss: 0.0358 - accuracy: 0.9870\n",
            "Eval loss : 0.03580893203616142, Eval accuracy : 0.9869999885559082 \n"
          ]
        }
      ]
    },
    {
      "cell_type": "code",
      "source": [
        "%tensorboard --logdir=logs"
      ],
      "metadata": {
        "id": "bUiNIlb3MjPv"
      },
      "execution_count": null,
      "outputs": []
    },
    {
      "cell_type": "code",
      "source": [
        "ls -sh ./plogs"
      ],
      "metadata": {
        "colab": {
          "base_uri": "https://localhost:8080/"
        },
        "id": "8n33-jX4NDc8",
        "outputId": "528f791a-216d-4497-f34f-36152aca7abc"
      },
      "execution_count": null,
      "outputs": [
        {
          "output_type": "stream",
          "name": "stdout",
          "text": [
            "total 4.0K\n",
            "4.0K \u001b[0m\u001b[01;34mtrain\u001b[0m/\n"
          ]
        }
      ]
    },
    {
      "cell_type": "code",
      "source": [
        "path = \"saved_model\" #save the model\n",
        "\n",
        "model.save(path, save_format=\"tf\")"
      ],
      "metadata": {
        "colab": {
          "base_uri": "https://localhost:8080/"
        },
        "id": "h5MRRaKQNfPD",
        "outputId": "79cc2ae2-4a03-4397-a707-a53ff882bcdd"
      },
      "execution_count": null,
      "outputs": [
        {
          "output_type": "stream",
          "name": "stderr",
          "text": [
            "WARNING:absl:Found untraced functions such as _jit_compiled_convolution_op while saving (showing 1 of 1). These functions will not be directly callable after loading.\n"
          ]
        }
      ]
    },
    {
      "cell_type": "code",
      "source": [
        "# Actually if have only one device but on the big project you have multiple devices \n",
        "# without distributed system\n",
        "unreplicated_model = tf.keras.models.load_model(path)\n",
        "\n",
        "unreplicated_model.compile(\n",
        "    loss = tf.keras.losses.SparseCategoricalCrossentropy(from_logits=True),\n",
        "    optimizer=tf.keras.optimizers.Adam(),\n",
        "    metrics=[\"accuracy\"]\n",
        ")\n",
        "eval_loss, eval_acc = unreplicated_model.evaluate(eval_dataset)\n",
        "print(\"Eval loss: {}\".format(eval_loss,eval_acc))"
      ],
      "metadata": {
        "colab": {
          "base_uri": "https://localhost:8080/"
        },
        "id": "nNs5NgmKNokb",
        "outputId": "daddf5bb-dd3e-434a-df82-c6302dec519e"
      },
      "execution_count": null,
      "outputs": [
        {
          "output_type": "stream",
          "name": "stdout",
          "text": [
            "157/157 [==============================] - 1s 4ms/step - loss: 0.0358 - accuracy: 0.9870\n",
            "Eval loss: 0.03580893203616142\n"
          ]
        }
      ]
    },
    {
      "cell_type": "code",
      "source": [
        "# with distributed system\n",
        "with strategy.scope():\n",
        "  replicated_model = tf.keras.models.load_model(path)\n",
        "  replicated_model.compile(loss=tf.keras.losses.SparseCategoricalCrossentropy(from_logits=True),\n",
        "                           optimizer=tf.keras.optimizers.Adam(),\n",
        "                           metrics=[\"accuracy\"])\n",
        "\n",
        "eval_loss, eval_acc = replicated_model.evaluate(eval_dataset)\n",
        "print(\"Eval loss: {}, Eval Accuracy: {}\".format(eval_loss, eval_acc)) "
      ],
      "metadata": {
        "colab": {
          "base_uri": "https://localhost:8080/"
        },
        "id": "5S7NMailQ6pe",
        "outputId": "c7f901b4-cc0d-4e65-c98e-b706f53b8e6c"
      },
      "execution_count": null,
      "outputs": [
        {
          "output_type": "stream",
          "name": "stdout",
          "text": [
            "157/157 [==============================] - 1s 5ms/step - loss: 0.0358 - accuracy: 0.9870\n",
            "Eval loss: 0.03580893203616142, Eval Accuracy: 0.9869999885559082\n"
          ]
        }
      ]
    }
  ]
}