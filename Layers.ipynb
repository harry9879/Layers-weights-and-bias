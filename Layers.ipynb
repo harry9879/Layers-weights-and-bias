{
  "nbformat": 4,
  "nbformat_minor": 0,
  "metadata": {
    "colab": {
      "provenance": [],
      "authorship_tag": "ABX9TyP8PWI1UWRPgpPy+zo13ioe",
      "include_colab_link": true
    },
    "kernelspec": {
      "name": "python3",
      "display_name": "Python 3"
    },
    "language_info": {
      "name": "python"
    }
  },
  "cells": [
    {
      "cell_type": "markdown",
      "metadata": {
        "id": "view-in-github",
        "colab_type": "text"
      },
      "source": [
        "<a href=\"https://colab.research.google.com/github/harry9879/Layers-weights-and-bias/blob/main/Layers.ipynb\" target=\"_parent\"><img src=\"https://colab.research.google.com/assets/colab-badge.svg\" alt=\"Open In Colab\"/></a>"
      ]
    },
    {
      "cell_type": "code",
      "execution_count": null,
      "metadata": {
        "id": "4KvHG4qiJKii"
      },
      "outputs": [],
      "source": [
        "import tensorflow as tf"
      ]
    },
    {
      "cell_type": "code",
      "source": [
        "print(tf.config.list_physical_devices('GPU'))"
      ],
      "metadata": {
        "colab": {
          "base_uri": "https://localhost:8080/"
        },
        "id": "ruvAkpOmJMRy",
        "outputId": "b75af1d2-fa15-494d-e48b-354979047d35"
      },
      "execution_count": null,
      "outputs": [
        {
          "output_type": "stream",
          "name": "stdout",
          "text": [
            "[]\n"
          ]
        }
      ]
    },
    {
      "cell_type": "code",
      "source": [
        "layer = tf.keras.layers.Dense(100)\n",
        "layer = tf.keras.layers.Dense(10 , input_shape = (None, 5))"
      ],
      "metadata": {
        "id": "eBo7htLeJQI7"
      },
      "execution_count": null,
      "outputs": []
    },
    {
      "cell_type": "code",
      "source": [
        "zeros_vector = tf.zeros([10,5])\n",
        "zeros_vector\n",
        "layer(zeros_vector)"
      ],
      "metadata": {
        "colab": {
          "base_uri": "https://localhost:8080/"
        },
        "id": "lpm2t2B8JZXs",
        "outputId": "ca5d3f17-c7eb-4f33-9eb0-b661165dd6d3"
      },
      "execution_count": null,
      "outputs": [
        {
          "output_type": "execute_result",
          "data": {
            "text/plain": [
              "<tf.Tensor: shape=(10, 10), dtype=float32, numpy=\n",
              "array([[0., 0., 0., 0., 0., 0., 0., 0., 0., 0.],\n",
              "       [0., 0., 0., 0., 0., 0., 0., 0., 0., 0.],\n",
              "       [0., 0., 0., 0., 0., 0., 0., 0., 0., 0.],\n",
              "       [0., 0., 0., 0., 0., 0., 0., 0., 0., 0.],\n",
              "       [0., 0., 0., 0., 0., 0., 0., 0., 0., 0.],\n",
              "       [0., 0., 0., 0., 0., 0., 0., 0., 0., 0.],\n",
              "       [0., 0., 0., 0., 0., 0., 0., 0., 0., 0.],\n",
              "       [0., 0., 0., 0., 0., 0., 0., 0., 0., 0.],\n",
              "       [0., 0., 0., 0., 0., 0., 0., 0., 0., 0.],\n",
              "       [0., 0., 0., 0., 0., 0., 0., 0., 0., 0.]], dtype=float32)>"
            ]
          },
          "metadata": {},
          "execution_count": 10
        }
      ]
    },
    {
      "cell_type": "code",
      "source": [
        "layers.variables"
      ],
      "metadata": {
        "colab": {
          "base_uri": "https://localhost:8080/"
        },
        "id": "SBxDIigZJiqu",
        "outputId": "589b19b3-b982-4ef7-94b3-cb2227c2d060"
      },
      "execution_count": null,
      "outputs": [
        {
          "output_type": "execute_result",
          "data": {
            "text/plain": [
              "[<tf.Variable 'dense_1/kernel:0' shape=(5, 10) dtype=float32, numpy=\n",
              " array([[ 0.59169585, -0.33411348,  0.15585989, -0.20072901, -0.19696653,\n",
              "          0.2653485 , -0.37251735,  0.17600214, -0.48906785,  0.06055707],\n",
              "        [ 0.45399934, -0.39991015,  0.17747462,  0.45701987,  0.36440295,\n",
              "         -0.0989064 , -0.52279276,  0.33361888, -0.5242037 ,  0.21960568],\n",
              "        [ 0.48588496,  0.00984788, -0.19590932,  0.51586336,  0.45417887,\n",
              "          0.00240403,  0.02115858, -0.08771437,  0.5484615 , -0.1026215 ],\n",
              "        [ 0.61277527,  0.6197135 , -0.4569243 , -0.615763  ,  0.0746364 ,\n",
              "         -0.06221396, -0.5833093 , -0.41627288,  0.02981812,  0.52393466],\n",
              "        [ 0.6212917 , -0.59361494,  0.30568004, -0.3815902 , -0.6263377 ,\n",
              "         -0.07163161,  0.40905374, -0.24526367, -0.33680972, -0.10566789]],\n",
              "       dtype=float32)>,\n",
              " <tf.Variable 'dense_1/bias:0' shape=(10,) dtype=float32, numpy=array([0., 0., 0., 0., 0., 0., 0., 0., 0., 0.], dtype=float32)>]"
            ]
          },
          "metadata": {},
          "execution_count": 13
        }
      ]
    },
    {
      "cell_type": "code",
      "source": [
        "layer.kernel , layer.bias"
      ],
      "metadata": {
        "colab": {
          "base_uri": "https://localhost:8080/"
        },
        "id": "v8-hP6lqKJSR",
        "outputId": "7db2c9ae-b551-4e55-a208-3411abb17f82"
      },
      "execution_count": null,
      "outputs": [
        {
          "output_type": "execute_result",
          "data": {
            "text/plain": [
              "(<tf.Variable 'dense_3/kernel:0' shape=(5, 10) dtype=float32, numpy=\n",
              " array([[-0.09885526,  0.0310241 , -0.61206114,  0.6291688 , -0.2917289 ,\n",
              "          0.55285865,  0.51919025, -0.14498994, -0.04408002,  0.18525654],\n",
              "        [-0.28943133, -0.46304423,  0.09527248,  0.3449549 ,  0.42776257,\n",
              "          0.170986  ,  0.45476896, -0.08858138, -0.0118134 ,  0.32109386],\n",
              "        [ 0.37505895,  0.13168311, -0.30739108,  0.02297801,  0.17195404,\n",
              "         -0.47432777, -0.15418524,  0.26068926, -0.55801487, -0.35140988],\n",
              "        [ 0.5925632 , -0.20504805,  0.16268247,  0.4483258 ,  0.5903961 ,\n",
              "          0.4270864 , -0.32244918,  0.430157  , -0.35500154, -0.48114252],\n",
              "        [-0.61162627, -0.366172  , -0.28461075, -0.37844744, -0.601888  ,\n",
              "         -0.09101766, -0.43071714,  0.30859965, -0.31216386, -0.01269251]],\n",
              "       dtype=float32)>,\n",
              " <tf.Variable 'dense_3/bias:0' shape=(10,) dtype=float32, numpy=array([0., 0., 0., 0., 0., 0., 0., 0., 0., 0.], dtype=float32)>)"
            ]
          },
          "metadata": {},
          "execution_count": 14
        }
      ]
    },
    {
      "cell_type": "code",
      "source": [
        "# class MyDenseLayer(tf.keras.layers.Layer):\n",
        "#   def __init__(self, num_outputs):\n",
        "#     super(MyDenseLayer, self).__init__()\n",
        "#     self.num_outputs = num_outputs\n",
        "\n",
        "#   def build(self, input_shape):\n",
        "#     self.kernel = self.add_weight(\"kernel\",\n",
        "#                                   shape=[int(input_shape[-1]),\n",
        "#                                          self.num_outputs])\n",
        "#   def call(self , inputs):\n",
        "#     return tf.matmul(inputs, self.kernel)\n",
        "\n",
        "# # layer = MyDenseLayer(10)"
      ],
      "metadata": {
        "id": "S7I0LB0rKQph"
      },
      "execution_count": null,
      "outputs": []
    },
    {
      "cell_type": "code",
      "source": [
        "_ = layer(tf.zeros([10,5]))"
      ],
      "metadata": {
        "id": "GyeMSDc9K5bW"
      },
      "execution_count": null,
      "outputs": []
    },
    {
      "cell_type": "code",
      "source": [
        "print([var.name for var in layer.trainable_variables])"
      ],
      "metadata": {
        "colab": {
          "base_uri": "https://localhost:8080/"
        },
        "id": "rdj2zCvHLbJ_",
        "outputId": "99661dfb-0466-4399-d34b-b6cc1e33ab38"
      },
      "execution_count": null,
      "outputs": [
        {
          "output_type": "stream",
          "name": "stdout",
          "text": [
            "['my_dense_layer/kernel:0']\n"
          ]
        }
      ]
    },
    {
      "cell_type": "code",
      "source": [
        "class MyDenseLayer(tf.keras.layers.Layer):\n",
        "  def __init__(self , num_outputs):\n",
        "    super(MyDenseLayer, self).__init__()\n",
        "    self.num_outputs = num_outputs\n",
        "  def build(self, input_shape):\n",
        "    self.kernel = self.add_weight('kernel',\n",
        "                                  shape=[int(input_shape[-1]),\n",
        "                                                   self.num_outputs])\n",
        "  def call(self, inputs):\n",
        "    return tf.matmul(inputs, self.kernel)\n",
        "\n",
        "layer = MyDenseLayer(10)"
      ],
      "metadata": {
        "id": "eacWiskGLfr6"
      },
      "execution_count": null,
      "outputs": []
    },
    {
      "cell_type": "code",
      "source": [
        "_ = layer(tf.zeros([10, 5])) # Calling the layer '.builds it'"
      ],
      "metadata": {
        "id": "y11rz-JbUAkC"
      },
      "execution_count": null,
      "outputs": []
    },
    {
      "cell_type": "code",
      "source": [
        "print([var.name for var in layer.trainable_variables])"
      ],
      "metadata": {
        "colab": {
          "base_uri": "https://localhost:8080/"
        },
        "id": "JXSfacq5UFpH",
        "outputId": "f3560c8e-c708-4dc4-d969-5fd8f9810d7a"
      },
      "execution_count": null,
      "outputs": [
        {
          "output_type": "stream",
          "name": "stdout",
          "text": [
            "['my_dense_layer_2/kernel:0']\n"
          ]
        }
      ]
    },
    {
      "cell_type": "code",
      "source": [
        "class ResnetIdentityBlock(tf.keras.Model):\n",
        "  def __init__(self, kernel_size, filters):\n",
        "    super(ResnetIdentityBlock, self).__init__(name='')\n",
        "    filters1, filters2, filters3 = filters\n",
        "\n",
        "    self.conv2a = tf.keras.layers.Conv2D(filters1, (1, 1))\n",
        "    self.bn2a = tf.keras.layers.BatchNormalization()\n",
        "\n",
        "    self.conv2b = tf.keras.layers.Conv2D(filters2, kernel_size, padding='same')\n",
        "    self.bn2b = tf.keras.layers.BatchNormalization()\n",
        "\n",
        "    self.conv2c = tf.keras.layers.Conv2D(filters3, (1, 1))\n",
        "    self.bn2c = tf.keras.layers.BatchNormalization()\n",
        "\n",
        "  def call(self, input_tensor, training=False):\n",
        "    x = self.conv2a(input_tensor)\n",
        "    x = self.bn2a(x, training=training)\n",
        "    x = tf.nn.relu(x)\n",
        "\n",
        "    x = self.conv2b(x)\n",
        "    x = self.bn2b(x, training=training)\n",
        "    x = tf.nn.relu(x)\n",
        "\n",
        "    x = self.conv2c(x)\n",
        "    x = self.bn2c(x, training=training)\n",
        "\n",
        "    x += input_tensor\n",
        "    return tf.nn.relu(x)\n",
        "\n",
        "\n",
        "block = ResnetIdentityBlock(1, [1, 2, 3])"
      ],
      "metadata": {
        "id": "Xaz-_2ZnUloY"
      },
      "execution_count": null,
      "outputs": []
    },
    {
      "cell_type": "code",
      "source": [
        "_ = block(tf.zeros([1,2,3,3]))"
      ],
      "metadata": {
        "id": "j17Ik2_TZhfv"
      },
      "execution_count": null,
      "outputs": []
    },
    {
      "cell_type": "code",
      "source": [
        "block.layers"
      ],
      "metadata": {
        "colab": {
          "base_uri": "https://localhost:8080/"
        },
        "id": "9rstgczdaWdL",
        "outputId": "dc86da01-b1db-40a9-b34e-707679469fb9"
      },
      "execution_count": null,
      "outputs": [
        {
          "output_type": "execute_result",
          "data": {
            "text/plain": [
              "[<keras.layers.convolutional.conv2d.Conv2D at 0x7f6a06e55f00>,\n",
              " <keras.layers.normalization.batch_normalization.BatchNormalization at 0x7f6a06e549a0>,\n",
              " <keras.layers.convolutional.conv2d.Conv2D at 0x7f6a07039480>,\n",
              " <keras.layers.normalization.batch_normalization.BatchNormalization at 0x7f6a07039720>,\n",
              " <keras.layers.convolutional.conv2d.Conv2D at 0x7f6a0703b250>,\n",
              " <keras.layers.normalization.batch_normalization.BatchNormalization at 0x7f6a0703b460>]"
            ]
          },
          "metadata": {},
          "execution_count": 56
        }
      ]
    },
    {
      "cell_type": "code",
      "source": [
        "len(block.variables)"
      ],
      "metadata": {
        "colab": {
          "base_uri": "https://localhost:8080/"
        },
        "id": "xAdteCDmcCSL",
        "outputId": "c8b14d48-4491-4c4b-c59b-15304448abb2"
      },
      "execution_count": null,
      "outputs": [
        {
          "output_type": "execute_result",
          "data": {
            "text/plain": [
              "18"
            ]
          },
          "metadata": {},
          "execution_count": 57
        }
      ]
    },
    {
      "cell_type": "code",
      "source": [
        "block.summary(())"
      ],
      "metadata": {
        "colab": {
          "base_uri": "https://localhost:8080/"
        },
        "id": "rceB4Vx8cH5q",
        "outputId": "072da8d5-07e5-4731-cd11-191a2e6200ac"
      },
      "execution_count": null,
      "outputs": [
        {
          "output_type": "stream",
          "name": "stdout",
          "text": [
            "Model: \"\"\n",
            "_________________________________________________________________\n",
            " Layer (type)                Output Shape              Param #   \n",
            "=================================================================\n",
            " conv2d_27 (Conv2D)          multiple                  4         \n",
            "                                                                 \n",
            " batch_normalization_26 (Bat  multiple                 4         \n",
            " chNormalization)                                                \n",
            "                                                                 \n",
            " conv2d_28 (Conv2D)          multiple                  4         \n",
            "                                                                 \n",
            " batch_normalization_27 (Bat  multiple                 8         \n",
            " chNormalization)                                                \n",
            "                                                                 \n",
            " conv2d_29 (Conv2D)          multiple                  9         \n",
            "                                                                 \n",
            " batch_normalization_28 (Bat  multiple                 12        \n",
            " chNormalization)                                                \n",
            "                                                                 \n",
            "=================================================================\n",
            "Total params: 41\n",
            "Trainable params: 29\n",
            "Non-trainable params: 12\n",
            "_________________________________________________________________\n"
          ]
        }
      ]
    }
  ]
}